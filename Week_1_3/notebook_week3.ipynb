{
 "cells": [
  {
   "attachments": {},
   "cell_type": "markdown",
   "metadata": {},
   "source": [
    "# Multiple Class Interaction\n",
    "In this notebook I will explain some of the concepts that are new and chakkenging to implement.\n",
    "\n",
    "## Important programming concepts\n",
    "### Asynchronous programming\n",
    "is a technique that enables your program to start a potentially long-running task and still be able to be responsive to other events while that task runs, rather than having to wait until that task has finished.\n",
    "\n",
    "https://developer.mozilla.org/en-US/docs/Learn/JavaScript/Asynchronous/Introducing\n",
    "\n",
    "## Data set\n",
    "This is a comma-separated data file consisting of the average monthly global temperature anomalies between the years 1880-2021. These temperatures are based on the GISS Surface Temperature Analysis (GISTEMP v4), an estimate of global surface temperature change. Anomalies are defined relative to a base period of 1951-1980.\n",
    "\n",
    "https://hanze-hbo-ict.github.io/programming2/week1.3.html\n"
   ]
  }
 ],
 "metadata": {
  "language_info": {
   "name": "python"
  },
  "orig_nbformat": 4
 },
 "nbformat": 4,
 "nbformat_minor": 2
}
