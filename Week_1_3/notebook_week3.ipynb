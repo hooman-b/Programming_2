{
 "cells": [
  {
   "attachments": {},
   "cell_type": "markdown",
   "metadata": {},
   "source": [
    "# Multiple Class Interaction\n",
    "In this notebook I will explain some of the concepts that are new and chakkenging to implement.\n",
    "\n",
    "## Data set\n",
    "This is a comma-separated data file consisting of the average monthly global temperature anomalies between the years 1880-2021. These temperatures are based on the GISS Surface Temperature Analysis (GISTEMP v4), an estimate of global surface temperature change. Anomalies are defined relative to a base period of 1951-1980.\n",
    "\n",
    "https://hanze-hbo-ict.github.io/programming2/week1.3.html\n",
    "\n",
    "## Important programming concepts\n",
    "### Asynchronous programming\n",
    "is a technique that enables your program to start a potentially long-running task and still be able to be responsive to other events while that task runs, rather than having to wait until that task has finished.\n",
    "\n",
    "https://developer.mozilla.org/en-US/docs/Learn/JavaScript/Asynchronous/Introducing\n",
    "### CSV file\n",
    "A comma-separated values (CSV) file is a delimited text file that uses a comma to separate values. Each line of the file is a data record. Each record consists of one or more fields, separated by commas. The use of the comma as a field separator is the source of the name for this file format. A CSV file typically stores tabular data (numbers and text) in plain text, in which case each line will have the same number of fields. \n",
    "\n",
    "https://en.wikipedia.org/wiki/Comma-separated_values\n",
    "\n",
    "### JSON file\n",
    "JSON (JavaScript Object Notation, pronounced /ˈdʒeɪsən/; also /ˈdʒeɪˌsɒn/) is an open standard file format and data interchange format that uses human-readable text to store and transmit data objects consisting of attribute–value pairs and arrays (or other serializable values). It is a common data format with diverse uses in electronic data interchange, including that of web applications with servers. \n",
    "\n",
    "https://en.wikipedia.org/wiki/JSON\n",
    "\n",
    "To convert CSV file to JSON file one can use the following code from the following link\n",
    "\n",
    "https://www.geeksforgeeks.org/python-convert-list-of-dictionaries-to-json/"
   ]
  },
  {
   "cell_type": "code",
   "execution_count": null,
   "metadata": {},
   "outputs": [],
   "source": [
    "# import json module\n",
    "import json\n",
    "  \n",
    "# list of dictionaries of employee data\n",
    "data = [{\"id\": (\"1\", \"2\", \"3\"), \"name\": (\"bhanu\", \"sivanagulu\"), \n",
    "         \"department\": (\"HR\", \"IT\")},\n",
    "        {\"id\": (\"4\", \"5\", \"6\"), \"name\": (\"sai\", \"poori\"),\n",
    "         \"department\": (\"HR\", \"IT\")},\n",
    "        {\"id\": (\"7\", \"8\", \"9\"), \"name\": (\"teja\", \"gowtam\"),\n",
    "         \"department\": (\"finance\", \"IT\")},\n",
    "        {\"id\": (\"10\", \"11\", \"12\"), \"name\": (\"sai\", \"jyothi\"),\n",
    "         \"department\": (\"business\", \"IT\")},\n",
    "        {\"id\": (\"13\", \"14\", \"15\"), \"name\": (\"prudhvi\", \"nagendram\"),\n",
    "         \"department\": (\"business\", \"IT\")}]\n",
    "  \n",
    "  \n",
    "# convert into json\n",
    "final = json.dumps(data, indent=2)\n",
    "  \n",
    "# display\n",
    "print(final)"
   ]
  }
 ],
 "metadata": {
  "language_info": {
   "name": "python"
  },
  "orig_nbformat": 4
 },
 "nbformat": 4,
 "nbformat_minor": 2
}
