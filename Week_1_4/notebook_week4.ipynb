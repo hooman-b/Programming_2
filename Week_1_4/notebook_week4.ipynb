{
 "cells": [
  {
   "attachments": {},
   "cell_type": "markdown",
   "metadata": {},
   "source": [
    "# Generators and Map-Reduce\n",
    "### Generator \n",
    "In computer science, a generator is a routine that can be used to control the iteration behaviour of a loop. All generators are also iterators.[1] A generator is very similar to a function that returns an array, in that a generator has parameters, can be called, and generates a sequence of values. However, instead of building an array containing all the values and returning them all at once, a generator yields the values one at a time, which requires less memory and allows the caller to get started processing the first few values immediately. In short, a generator looks like a function but behaves like an iterator. \n",
    "\n",
    "An example from wikipedia for learning purposes:"
   ]
  },
  {
   "cell_type": "code",
   "execution_count": 19,
   "metadata": {},
   "outputs": [
    {
     "name": "stdout",
     "output_type": "stream",
     "text": [
      "10\n",
      "11\n",
      "12\n",
      "13\n",
      "14\n",
      "15\n"
     ]
    }
   ],
   "source": [
    "from typing import Iterator\n",
    "#The Iterator[int] type hint is used to indicate that the return value is an iterator that generates integers.\n",
    "def countfrom(n: int) -> Iterator[int]: # This part specifies the return type annotation.\n",
    "    while True:\n",
    "        yield n\n",
    "        n += 1\n",
    "\n",
    "# Example use: printing out the integers from 10 to 20.\n",
    "# Note that this iteration terminates normally, despite\n",
    "# countfrom() being written as an infinite loop.\n",
    "\n",
    "for i in countfrom(10):\n",
    "    if i <= 15:\n",
    "        print(i)\n",
    "    else:\n",
    "        break"
   ]
  },
  {
   "cell_type": "code",
   "execution_count": 17,
   "metadata": {},
   "outputs": [
    {
     "name": "stdout",
     "output_type": "stream",
     "text": [
      "4\n",
      "9\n",
      "16\n"
     ]
    }
   ],
   "source": [
    "squares = (n * n for n in countfrom(2))\n",
    "\n",
    "for j in squares:\n",
    "    if j <= 20:\n",
    "        print(j)\n",
    "    else:\n",
    "        break"
   ]
  },
  {
   "cell_type": "code",
   "execution_count": 18,
   "metadata": {},
   "outputs": [
    {
     "name": "stdout",
     "output_type": "stream",
     "text": [
      "2\n",
      "3\n",
      "5\n",
      "7\n",
      "11\n"
     ]
    }
   ],
   "source": [
    "\n",
    "# Another generator, which produces prime numbers indefinitely as needed.\n",
    "import itertools\n",
    "\n",
    "def primes() -> Iterator[int]:\n",
    "    \"\"\"Generate prime numbers indefinitely as needed.\"\"\"\n",
    "    yield 2\n",
    "    n = 3\n",
    "    p = []\n",
    "    while True:\n",
    "        # If dividing n by all the numbers in p, up to and including sqrt(n),\n",
    "        # produces a non-zero remainder then n is prime.\n",
    "        if all(n % f > 0 for f in itertools.takewhile(lambda f: f * f <= n, p)):\n",
    "            yield n\n",
    "            p.append(n)\n",
    "        n += 2\n",
    "\n",
    "prime_generator = primes()\n",
    "for _ in range(5):\n",
    "    print(next(prime_generator))"
   ]
  },
  {
   "cell_type": "code",
   "execution_count": 13,
   "metadata": {},
   "outputs": [
    {
     "name": "stdout",
     "output_type": "stream",
     "text": [
      "True\n"
     ]
    }
   ],
   "source": [
    "# This one is used to find whether a number is prime\n",
    "number = 17\n",
    "prime_generator = primes()\n",
    "is_prime = number in itertools.islice(prime_generator, number)\n",
    "print(is_prime)"
   ]
  },
  {
   "cell_type": "code",
   "execution_count": 14,
   "metadata": {},
   "outputs": [
    {
     "data": {
      "text/plain": [
       "[2, 3, 5, 7, 11, 13, 17, 19, 23, 29, 31, 37, 41, 43, 47]"
      ]
     },
     "execution_count": 14,
     "metadata": {},
     "output_type": "execute_result"
    }
   ],
   "source": [
    "# make a list of prime numbers\n",
    "prime_generator = primes()\n",
    "prime_list = [next(prime_generator) for _ in range(15)]\n",
    "prime_list"
   ]
  },
  {
   "attachments": {},
   "cell_type": "markdown",
   "metadata": {},
   "source": [
    "### Maps\n",
    "map() provides an alternative approach that’s based in functional programming. You pass in a function and an iterable, and map() will create an object. This object contains the output you would get from running each iterable element through the supplied function."
   ]
  },
  {
   "cell_type": "code",
   "execution_count": 29,
   "metadata": {},
   "outputs": [
    {
     "data": {
      "text/plain": [
       "[1.1772000000000002, 25.4448, 62.467200000000005, 4.9248, 7.322400000000001]"
      ]
     },
     "execution_count": 29,
     "metadata": {},
     "output_type": "execute_result"
    }
   ],
   "source": [
    "txns = [1.09, 23.56, 57.84, 4.56, 6.78]\n",
    "TAX_RATE = .08\n",
    "def get_price_with_tax(txn):\n",
    "    return txn * (1 + TAX_RATE)\n",
    "final_prices = map(get_price_with_tax, txns)\n",
    "list(final_prices)"
   ]
  },
  {
   "attachments": {},
   "cell_type": "markdown",
   "metadata": {},
   "source": [
    "However, one can rewrite the map into a list comprehension."
   ]
  },
  {
   "cell_type": "code",
   "execution_count": 30,
   "metadata": {},
   "outputs": [
    {
     "data": {
      "text/plain": [
       "[1.1772000000000002, 25.4448, 62.467200000000005, 4.9248, 7.322400000000001]"
      ]
     },
     "execution_count": 30,
     "metadata": {},
     "output_type": "execute_result"
    }
   ],
   "source": [
    "txns = [1.09, 23.56, 57.84, 4.56, 6.78]\n",
    "TAX_RATE = .08\n",
    "\n",
    "final_price = [txn * (1 + TAX_RATE) for txn in txns]\n",
    "final_price"
   ]
  },
  {
   "attachments": {},
   "cell_type": "markdown",
   "metadata": {},
   "source": [
    "### List Comprehensions vs. For Loops\n",
    "List comprehensions are not always the fastest case. In fact, they are the fastest when one wants to make a list. in this scenario the act of appending values to the list takes more time than using list comprehension. For mor information one can use this link:\n",
    "\n",
    "https://towardsdatascience.com/list-comprehensions-vs-for-loops-it-is-not-what-you-think-34071d4d8207"
   ]
  },
  {
   "cell_type": "code",
   "execution_count": 20,
   "metadata": {},
   "outputs": [
    {
     "name": "stdout",
     "output_type": "stream",
     "text": [
      "16.440829515457153\n",
      "10.11851978302002\n"
     ]
    }
   ],
   "source": [
    "import time\n",
    "iterations = 100000000\n",
    "start = time.time()\n",
    "mylist = []\n",
    "for i in range(iterations):\n",
    "    mylist.append(i+1)\n",
    "end = time.time()\n",
    "print(end - start)\n",
    "\n",
    "start = time.time()\n",
    "mylist = [i+1 for i in range(iterations)]\n",
    "end = time.time()\n",
    "print(end - start)"
   ]
  },
  {
   "attachments": {},
   "cell_type": "markdown",
   "metadata": {},
   "source": [
    " Howeve, when one only wants to perform some computations (or call an independent function multiple times) and do not want to create a list, the list comprehension is slower."
   ]
  },
  {
   "cell_type": "code",
   "execution_count": 23,
   "metadata": {},
   "outputs": [
    {
     "name": "stdout",
     "output_type": "stream",
     "text": [
      "8.955711364746094\n",
      "9.692799091339111\n"
     ]
    }
   ],
   "source": [
    "start = time.time()\n",
    "for i in range(iterations):\n",
    "    i+1\n",
    "end = time.time()\n",
    "print(end - start)\n",
    "\n",
    "start = time.time()\n",
    "[i+1 for i in range(iterations)]\n",
    "end = time.time()\n",
    "print(end - start)"
   ]
  },
  {
   "attachments": {},
   "cell_type": "markdown",
   "metadata": {},
   "source": [
    "Do not try to make a numpy array using for-loops. It may take years :)."
   ]
  },
  {
   "cell_type": "code",
   "execution_count": null,
   "metadata": {},
   "outputs": [],
   "source": [
    "# this takes for ever\n",
    "import numpy as np\n",
    "myarray = np.array([])\n",
    "for i in range(iterations):\n",
    "    myarray = np.append(myarray, i+1)"
   ]
  },
  {
   "attachments": {},
   "cell_type": "markdown",
   "metadata": {},
   "source": [
    "what’s faster than a for loop or a list comprehension? Array computations! Actually, it is a bad practice in Python to use for loops, list comprehensions, or .apply() in pandas. Instead, you should always prefer array computations."
   ]
  },
  {
   "cell_type": "code",
   "execution_count": 24,
   "metadata": {},
   "outputs": [
    {
     "name": "stdout",
     "output_type": "stream",
     "text": [
      "3.1701016426086426\n"
     ]
    }
   ],
   "source": [
    "start = time.time()\n",
    "mylist = list(range(iterations))\n",
    "end = time.time()\n",
    "print(end - start)"
   ]
  },
  {
   "attachments": {},
   "cell_type": "markdown",
   "metadata": {},
   "source": [
    "The comparison of Chat GPT:\n",
    "\n",
    "List comprehensions:\n",
    "\n",
    "1. Use list comprehensions when you want to create a new list by applying a transformation or filtering to an existing iterable.\n",
    "2. List comprehensions are concise and provide a compact way to generate lists in a single line of code.\n",
    "3. They are often used when you need to perform a simple transformation or filtering operation on every element of an iterable.\n",
    "4. List comprehensions can be more readable and expressive than writing equivalent loops.\n",
    "\n",
    "Loops (for/while loops):\n",
    "\n",
    "1. Use loops when you need to repeatedly execute a block of code for a specific number of iterations or until a certain condition is met.\n",
    "2. Loops are more flexible and can handle complex control flow situations that cannot be easily expressed with list comprehensions.\n",
    "3. They are suitable when you need to perform more complex operations that involve multiple statements or conditions.\n",
    "4. Loops can also be used to iterate over an iterable without necessarily creating a new list.\n",
    "\n",
    "In general, list comprehensions are preferred when the task involves transforming or filtering an iterable to create a new list. They are concise, readable, and often more efficient. However, if the task requires complex logic, multiple statements, or control flow that cannot be easily expressed in a single line, using a loop is more appropriate."
   ]
  }
 ],
 "metadata": {
  "kernelspec": {
   "display_name": "base",
   "language": "python",
   "name": "python3"
  },
  "language_info": {
   "codemirror_mode": {
    "name": "ipython",
    "version": 3
   },
   "file_extension": ".py",
   "mimetype": "text/x-python",
   "name": "python",
   "nbconvert_exporter": "python",
   "pygments_lexer": "ipython3",
   "version": "3.9.13"
  },
  "orig_nbformat": 4
 },
 "nbformat": 4,
 "nbformat_minor": 2
}
