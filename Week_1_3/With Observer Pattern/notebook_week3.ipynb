{
 "cells": [
  {
   "attachments": {},
   "cell_type": "markdown",
   "metadata": {},
   "source": [
    "# Multiple Class Interaction\n",
    "In this notebook I will explain some of the concepts that are new and chakkenging to implement.\n",
    "\n",
    "## Data set\n",
    "This is a comma-separated data file consisting of the average monthly global temperature anomalies between the years 1880-2021. These temperatures are based on the GISS Surface Temperature Analysis (GISTEMP v4), an estimate of global surface temperature change. Anomalies are defined relative to a base period of 1951-1980.\n",
    "\n",
    "https://hanze-hbo-ict.github.io/programming2/week1.3.html\n",
    "\n",
    "## Important programming concepts\n",
    "### Asynchronous programming\n",
    "is a technique that enables your program to start a potentially long-running task and still be able to be responsive to other events while that task runs, rather than having to wait until that task has finished.\n",
    "\n",
    "https://developer.mozilla.org/en-US/docs/Learn/JavaScript/Asynchronous/Introducing\n",
    "### CSV file\n",
    "A comma-separated values (CSV) file is a delimited text file that uses a comma to separate values. Each line of the file is a data record. Each record consists of one or more fields, separated by commas. The use of the comma as a field separator is the source of the name for this file format. A CSV file typically stores tabular data (numbers and text) in plain text, in which case each line will have the same number of fields. \n",
    "\n",
    "https://en.wikipedia.org/wiki/Comma-separated_values\n",
    "\n",
    "### JSON file\n",
    "JSON (JavaScript Object Notation, pronounced /ˈdʒeɪsən/; also /ˈdʒeɪˌsɒn/) is an open standard file format and data interchange format that uses human-readable text to store and transmit data objects consisting of attribute–value pairs and arrays (or other serializable values). It is a common data format with diverse uses in electronic data interchange, including that of web applications with servers. \n",
    "\n",
    "https://en.wikipedia.org/wiki/JSON\n",
    "\n",
    "To convert CSV file to JSON file one can use the following code from the following link\n",
    "\n",
    "https://www.geeksforgeeks.org/python-convert-list-of-dictionaries-to-json/"
   ]
  },
  {
   "cell_type": "markdown",
   "metadata": {},
   "source": [
    "Nice work. Also that you have provided this notebook in order to descibe whay you have done. However, I think your infrastructure is somewhat complex – more complex than necessary. But still."
   ]
  },
  {
   "cell_type": "code",
   "execution_count": 2,
   "metadata": {},
   "outputs": [
    {
     "name": "stdout",
     "output_type": "stream",
     "text": [
      "[\n",
      "  {\n",
      "    \"id\": [\n",
      "      \"1\",\n",
      "      \"2\",\n",
      "      \"3\"\n",
      "    ],\n",
      "    \"name\": [\n",
      "      \"bhanu\",\n",
      "      \"sivanagulu\"\n",
      "    ],\n",
      "    \"department\": [\n",
      "      \"HR\",\n",
      "      \"IT\"\n",
      "    ]\n",
      "  },\n",
      "  {\n",
      "    \"id\": [\n",
      "      \"4\",\n",
      "      \"5\",\n",
      "      \"6\"\n",
      "    ],\n",
      "    \"name\": [\n",
      "      \"sai\",\n",
      "      \"poori\"\n",
      "    ],\n",
      "    \"department\": [\n",
      "      \"HR\",\n",
      "      \"IT\"\n",
      "    ]\n",
      "  },\n",
      "  {\n",
      "    \"id\": [\n",
      "      \"7\",\n",
      "      \"8\",\n",
      "      \"9\"\n",
      "    ],\n",
      "    \"name\": [\n",
      "      \"teja\",\n",
      "      \"gowtam\"\n",
      "    ],\n",
      "    \"department\": [\n",
      "      \"finance\",\n",
      "      \"IT\"\n",
      "    ]\n",
      "  },\n",
      "  {\n",
      "    \"id\": [\n",
      "      \"10\",\n",
      "      \"11\",\n",
      "      \"12\"\n",
      "    ],\n",
      "    \"name\": [\n",
      "      \"sai\",\n",
      "      \"jyothi\"\n",
      "    ],\n",
      "    \"department\": [\n",
      "      \"business\",\n",
      "      \"IT\"\n",
      "    ]\n",
      "  },\n",
      "  {\n",
      "    \"id\": [\n",
      "      \"13\",\n",
      "      \"14\",\n",
      "      \"15\"\n",
      "    ],\n",
      "    \"name\": [\n",
      "      \"prudhvi\",\n",
      "      \"nagendram\"\n",
      "    ],\n",
      "    \"department\": [\n",
      "      \"business\",\n",
      "      \"IT\"\n",
      "    ]\n",
      "  }\n",
      "]\n"
     ]
    }
   ],
   "source": [
    "# import json module\n",
    "import json\n",
    "  \n",
    "# list of dictionaries of employee data\n",
    "data = [{\"id\": (\"1\", \"2\", \"3\"), \"name\": (\"bhanu\", \"sivanagulu\"), \n",
    "         \"department\": (\"HR\", \"IT\")},\n",
    "        {\"id\": (\"4\", \"5\", \"6\"), \"name\": (\"sai\", \"poori\"),\n",
    "         \"department\": (\"HR\", \"IT\")},\n",
    "        {\"id\": (\"7\", \"8\", \"9\"), \"name\": (\"teja\", \"gowtam\"),\n",
    "         \"department\": (\"finance\", \"IT\")},\n",
    "        {\"id\": (\"10\", \"11\", \"12\"), \"name\": (\"sai\", \"jyothi\"),\n",
    "         \"department\": (\"business\", \"IT\")},\n",
    "        {\"id\": (\"13\", \"14\", \"15\"), \"name\": (\"prudhvi\", \"nagendram\"),\n",
    "         \"department\": (\"business\", \"IT\")}]\n",
    "  \n",
    "  \n",
    "# convert into json\n",
    "final = json.dumps(data, indent=2)\n",
    "  \n",
    "# display\n",
    "print(final)"
   ]
  },
  {
   "attachments": {},
   "cell_type": "markdown",
   "metadata": {},
   "source": [
    "### Constructor\n",
    "Class constructors are a fundamental part of object-oriented programming in Python. They allow you to create and properly initialize objects of a given class, making those objects ready to use. Class constructors internally trigger Python’s instantiation process, which runs through two main steps: instance creation and instance initialization.\n",
    "\n",
    "If you want to dive deeper into how Python internally constructs objects and learn how to customize the process, then this tutorial is for you.\n",
    "\n",
    "In this tutorial, you’ll:\n",
    "\n",
    "    Understand Python’s internal instantiation process\n",
    "    Customize object initialization using .__init__()\n",
    "    Fine-tune object creation by overriding .__new__()\n",
    "\n",
    "With this knowledge, you’ll be able to tweak the creation and initialization of objects in your custom Python classes, which will give you control over the instantiation process at a more advanced level.\n",
    "\n",
    "To better understand the examples and concepts in this tutorial, you should be familiar with object-oriented programming and special methods in Python.\n",
    "\n",
    "https://realpython.com/python-class-constructor/\n",
    "\n",
    "## New modules and command\n",
    "### linecache.getline()\n",
    "With the help of linecache.getline() method, we can get a particular line by providing a line number, one of the usecase for this method is to find the syntax error in the given line number within a big file by using linecache.getline() method.\n",
    "\n",
    "https://www.geeksforgeeks.org/linecache-getline-in-python/"
   ]
  },
  {
   "cell_type": "code",
   "execution_count": 3,
   "metadata": {},
   "outputs": [
    {
     "name": "stdout",
     "output_type": "stream",
     "text": [
      "\n"
     ]
    }
   ],
   "source": [
    "# import linecache\n",
    "import linecache as lc\n",
    "  \n",
    "# Using linecache.getline() method\n",
    "gfg = lc.getline('Text.txt', 4)\n",
    "  \n",
    "print(gfg)"
   ]
  },
  {
   "attachments": {},
   "cell_type": "markdown",
   "metadata": {},
   "source": [
    "# Animation\n",
    "matplotlib library is a powerful tool. One can even sketch an animation with it.  The plotted graphs when added with animations gives a more powerful visualization and helps the presenter to catch a larger number of audience. one important tip is that these animations do not work in Jupyter notebooks. For more information one can use the following link.\n",
    "\n",
    "https://www.geeksforgeeks.org/using-matplotlib-for-animations/\n",
    "\n",
    "https://matplotlib.org/stable/api/animation_api.html"
   ]
  }
 ],
 "metadata": {
  "kernelspec": {
   "display_name": "base",
   "language": "python",
   "name": "python3"
  },
  "language_info": {
   "codemirror_mode": {
    "name": "ipython",
    "version": 3
   },
   "file_extension": ".py",
   "mimetype": "text/x-python",
   "name": "python",
   "nbconvert_exporter": "python",
   "pygments_lexer": "ipython3",
   "version": "3.9.13"
  },
  "orig_nbformat": 4
 },
 "nbformat": 4,
 "nbformat_minor": 2
}
