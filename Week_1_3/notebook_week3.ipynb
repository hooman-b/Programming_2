{
 "cells": [
  {
   "attachments": {},
   "cell_type": "markdown",
   "metadata": {},
   "source": [
    "# Multiple Class Interaction\n",
    "In this notebook I will explain some of the concepts that are new and chakkenging to implement.\n",
    "\n",
    "### Asynchronous programming\n",
    "is a technique that enables your program to start a potentially long-running task and still be able to be responsive to other events while that task runs, rather than having to wait until that task has finished.\n",
    "\n",
    "https://developer.mozilla.org/en-US/docs/Learn/JavaScript/Asynchronous/Introducing\n",
    "\n"
   ]
  }
 ],
 "metadata": {
  "language_info": {
   "name": "python"
  },
  "orig_nbformat": 4
 },
 "nbformat": 4,
 "nbformat_minor": 2
}
