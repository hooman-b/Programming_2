{
 "cells": [
  {
   "attachments": {},
   "cell_type": "markdown",
   "metadata": {},
   "source": [
    "In this part I will seperately analyze the adherence of this class to SOLID principles.\n",
    "\n",
    "1. Single Responsibility Principle: The current implementation of the Crawler class performs two distinct tasks: crawling web pages and parsing information. To strictly adhere to SRP, it would be ideal to separate these responsibilities into separate classes. One class would handle the crawling logic, while another class would focus on parsing and extracting information from the crawled pages. This separation would ensure that each class has a single responsibility and is focused on a specific task.\n",
    "\n",
    "2. Open/Close Principle: The current implementation of the class does not fully adhere to the Open/Closed Principle. To extend the functionality of the class, such as extracting a new feature from a website soup, one would need to modify the crawl_site method directly. This violates the principle, as it requires modifying an existing class instead of extending it. One way to improve this class is to modify the methods to obey the mentioned principle. Otherwise, if this structure is intended to be preserved , an interface should be defined that contains the common behavior of web crawlers like crawl_site, fetch_sidebar, and other relevant operations. Then, one can extend it conviniently.\n",
    "\n",
    "3. Liskov Substitution Principle: Since the current class does not make use of inheritance and polymorphism, the Liskov Substitution Principle may not be directly applicable in this context since this principle is all about the relation between parental classes and their children classes.\n",
    "\n",
    "4. Interface Segregation Principle: there is no inteface involved in this class, but there is a possibility to make an intephase for this class.\n",
    "\n",
    "5. Dependency Inversion Principle: If one designs an abstaction or intephase between the class and the modules used in it, this class can be adhere to this principle. Generally, if a person introduces an inteface in the correct way, they can adhere the last two principles.\n",
    "\n",
    "In conclusion, this class does not show adherence to the SOLID principles."
   ]
  }
 ],
 "metadata": {
  "kernelspec": {
   "display_name": "base",
   "language": "python",
   "name": "python3"
  },
  "language_info": {
   "name": "python",
   "version": "3.9.13"
  },
  "orig_nbformat": 4
 },
 "nbformat": 4,
 "nbformat_minor": 2
}
