{
 "cells": [
  {
   "cell_type": "markdown",
   "metadata": {},
   "source": [
    "# Week 2.5 Assignment\n",
    "I would prefer to carry out this exercise within a Jupyter notebook. The rationale behind this choice is that Jupyter notebooks offer robust visualization tools for every code step, making them an ideal environment for various stages of the data science pipeline. Given that the objective of this task is to inspect a big dataset, using a Jupyter notebook would likely result in better visualization of different aspects of the dataset. However, I will provide a '.py' file based on this notebook as well.\n",
    "\n",
    "# Protein Annotation\n",
    "Annotation plays a vital role in enhancing our understanding of proteins, offering valuable insights into their functions, characteristics, and interactions. Proteins, composed of sequences of amino acids, are the building blocks of life. The process of protein annotation involves enriching these sequences or structures with additional information, shedding light on their roles within biological systems. This information can be garnered through rigorous experimentation, computational analysis, or a blend of both methodologies.\n",
    "\n",
    "Protein annotation encompasses several key facets. It illuminates the functions of proteins within cells and organisms, revealing details like enzymatic activities, binding partners, and contributions to various cellular processes. It also deciphers the intricate domain structure of proteins, identifying distinct functional or structural units within them. Beyond this, annotation unveils post-translational modifications that proteins undergo after synthesis, such as phosphorylation or glycosylation, elucidating their effects. Additionally, it uncovers the complex web of interactions proteins engage in, including interactions with DNA, RNA, other proteins, or small molecules, thereby highlighting their biological significance.\n",
    "\n",
    "Furthermore, annotation holds the power to pinpoint where proteins reside within cells, offering valuable clues about their roles. For proteins with known 3D structures, annotation can illuminate critical structural features like active sites or binding pockets. It also delves into the evolutionary conservation of proteins, identifying regions that remain consistent across species and hinting at their fundamental importance. Moreover, annotation establishes connections between proteins and specific diseases, unraveling how proteins contribute to various medical conditions. Backed by references to scientific literature, these annotations provide a thorough foundation for researchers, enabling them to delve deeper into the underpinnings of protein functionality.\n",
    "\n",
    "One can delve into following links and articles to find extra information: <a href=\"https://medcraveonline.com/MOJPB/computational-annotation-of-protein-function.html\" target=\"_blank\">link1</a>, <a href=\"https://www.rcsb.org/docs/exploring-a-3d-structure/annotations#protein-sequence-annotations-\" target=\"_blank\">link2</a>, <a href=\"https://www.uniprot.org/help/sequence_annotation\" target=\"_blank\">link3</a>, <a href=\"https://www.ncbi.nlm.nih.gov/pmc/articles/PMC5586544/\" target=\"_blank\">Article1</a>, <a href=\"https://genomebiology.biomedcentral.com/articles/10.1186/gb-2009-10-2-207\" target=\"_blank\">Article2</a>.\n",
    "\n",
    "# InterProScan protein annotation service\n",
    "InterProScan is a valuable service that delves into the world of proteins, shedding light on their complexities through annotations. These annotations act like detailed descriptions, helping us grasp the functions and traits that define proteins' roles within living systems (as it mentioed above in detail).\n",
    "\n",
    "Think of InterProScan as a conductor orchestrating a symphony of protein function annotators. Instead of being a solo performer, it coordinates a sequence of annotators, each specializing in different aspects. Just like musicians playing different instruments, these annotators inspect protein amino acid sequences, revealing insights into their structures, behaviors, and functions. As they come together like harmonious melodies, these annotations provide a comprehensive picture of the intricate world of proteins.\n",
    "\n",
    "Imagine InterProScan as the conductor guiding this symphony of protein function annotators. Similar to how a conductor brings together musicians' contributions, InterProScan collects and compiles annotations, creating a comprehensive guide similar to sheet music. These annotations marked with unique \"InterPRO numbers\" that scientists and researchers use to navigate the complexities of protein functions.\n",
    "\n",
    "links: <a href=\"https://hanze-hbo-ict.github.io/programming2/week2.5.html\" target=\"_blank\">link1</a>, <a href=\"https://interpro-documentation.readthedocs.io/en/latest/interproscan.html\" target=\"_blank\">link2</a>, <a href=\"http://www.ebi.ac.uk/interpro/\" target=\"_blank\">Article</a>.\n",
    "\n",
    "# Loading Dataset\n",
    "In this part I utilize Assemblix2019 and dask package to load the dataset and answer the questions."
   ]
  },
  {
   "cell_type": "markdown",
   "metadata": {},
   "source": [
    "Good work. Also nice that you delved into the details of this dataset and used the information gained to better your work."
   ]
  },
  {
   "cell_type": "code",
   "execution_count": 1,
   "metadata": {},
   "outputs": [],
   "source": [
    "# packages\n",
    "from dask.distributed import Client\n",
    "import numpy as np\n",
    "import matplotlib.pyplot as plt\n",
    "from collections import Counter\n",
    "import dask.dataframe as dd"
   ]
  },
  {
   "cell_type": "code",
   "execution_count": null,
   "metadata": {},
   "outputs": [],
   "source": [
    "# Make your client\n",
    "client = Client(n_workers=4)\n",
    "client"
   ]
  },
  {
   "cell_type": "code",
   "execution_count": 2,
   "metadata": {},
   "outputs": [],
   "source": [
    "link = '/data/dataprocessing/interproscan/all_bacilli.tsv'\n",
    "ddf = dd.read_csv(link, delimiter='\\t', dtype={'1.6E-21': 'object'})                          "
   ]
  },
  {
   "cell_type": "code",
   "execution_count": 3,
   "metadata": {},
   "outputs": [
    {
     "data": {
      "text/html": [
       "<div>\n",
       "<style scoped>\n",
       "    .dataframe tbody tr th:only-of-type {\n",
       "        vertical-align: middle;\n",
       "    }\n",
       "\n",
       "    .dataframe tbody tr th {\n",
       "        vertical-align: top;\n",
       "    }\n",
       "\n",
       "    .dataframe thead th {\n",
       "        text-align: right;\n",
       "    }\n",
       "</style>\n",
       "<table border=\"1\" class=\"dataframe\">\n",
       "  <thead>\n",
       "    <tr style=\"text-align: right;\">\n",
       "      <th></th>\n",
       "      <th>gi|29898682|gb|AAP11954.1|</th>\n",
       "      <th>92d1264e347e149248231cb9b649388c</th>\n",
       "      <th>547</th>\n",
       "      <th>TIGRFAM</th>\n",
       "      <th>TIGR03882</th>\n",
       "      <th>cyclo_dehyd_2: bacteriocin biosynthesis cyclodehydratase domain</th>\n",
       "      <th>2</th>\n",
       "      <th>131</th>\n",
       "      <th>1.6E-21</th>\n",
       "      <th>T</th>\n",
       "      <th>25-04-2022</th>\n",
       "      <th>IPR022291</th>\n",
       "      <th>Bacteriocin biosynthesis, cyclodehydratase domain</th>\n",
       "      <th>-</th>\n",
       "      <th>-.1</th>\n",
       "    </tr>\n",
       "  </thead>\n",
       "  <tbody>\n",
       "    <tr>\n",
       "      <th>0</th>\n",
       "      <td>gi|29898682|gb|AAP11954.1|</td>\n",
       "      <td>92d1264e347e149248231cb9b649388c</td>\n",
       "      <td>547</td>\n",
       "      <td>TIGRFAM</td>\n",
       "      <td>TIGR03604</td>\n",
       "      <td>TOMM_cyclo_SagD: thiazole/oxazole-forming pept...</td>\n",
       "      <td>161</td>\n",
       "      <td>547</td>\n",
       "      <td>0.0</td>\n",
       "      <td>T</td>\n",
       "      <td>25-04-2022</td>\n",
       "      <td>IPR027624</td>\n",
       "      <td>Thiazole/oxazole-forming peptide maturase, Sag...</td>\n",
       "      <td>-</td>\n",
       "      <td>-</td>\n",
       "    </tr>\n",
       "    <tr>\n",
       "      <th>1</th>\n",
       "      <td>gi|29898682|gb|AAP11954.1|</td>\n",
       "      <td>92d1264e347e149248231cb9b649388c</td>\n",
       "      <td>547</td>\n",
       "      <td>ProSiteProfiles</td>\n",
       "      <td>PS51664</td>\n",
       "      <td>YcaO domain profile.</td>\n",
       "      <td>159</td>\n",
       "      <td>547</td>\n",
       "      <td>75.396477</td>\n",
       "      <td>T</td>\n",
       "      <td>25-04-2022</td>\n",
       "      <td>IPR003776</td>\n",
       "      <td>YcaO-like domain</td>\n",
       "      <td>-</td>\n",
       "      <td>-</td>\n",
       "    </tr>\n",
       "    <tr>\n",
       "      <th>2</th>\n",
       "      <td>gi|29898682|gb|AAP11954.1|</td>\n",
       "      <td>92d1264e347e149248231cb9b649388c</td>\n",
       "      <td>547</td>\n",
       "      <td>Gene3D</td>\n",
       "      <td>G3DSA:3.30.160.660</td>\n",
       "      <td>-</td>\n",
       "      <td>311</td>\n",
       "      <td>452</td>\n",
       "      <td>9.1E-46</td>\n",
       "      <td>T</td>\n",
       "      <td>25-04-2022</td>\n",
       "      <td>-</td>\n",
       "      <td>-</td>\n",
       "      <td>NaN</td>\n",
       "      <td>NaN</td>\n",
       "    </tr>\n",
       "    <tr>\n",
       "      <th>3</th>\n",
       "      <td>gi|29898682|gb|AAP11954.1|</td>\n",
       "      <td>92d1264e347e149248231cb9b649388c</td>\n",
       "      <td>547</td>\n",
       "      <td>Gene3D</td>\n",
       "      <td>G3DSA:3.30.40.250</td>\n",
       "      <td>-</td>\n",
       "      <td>191</td>\n",
       "      <td>274</td>\n",
       "      <td>9.1E-46</td>\n",
       "      <td>T</td>\n",
       "      <td>25-04-2022</td>\n",
       "      <td>-</td>\n",
       "      <td>-</td>\n",
       "      <td>NaN</td>\n",
       "      <td>NaN</td>\n",
       "    </tr>\n",
       "    <tr>\n",
       "      <th>4</th>\n",
       "      <td>gi|29898682|gb|AAP11954.1|</td>\n",
       "      <td>92d1264e347e149248231cb9b649388c</td>\n",
       "      <td>547</td>\n",
       "      <td>PANTHER</td>\n",
       "      <td>PTHR37809</td>\n",
       "      <td>RIBOSOMAL PROTEIN S12 METHYLTHIOTRANSFERASE AC...</td>\n",
       "      <td>95</td>\n",
       "      <td>547</td>\n",
       "      <td>0.0</td>\n",
       "      <td>T</td>\n",
       "      <td>25-04-2022</td>\n",
       "      <td>-</td>\n",
       "      <td>-</td>\n",
       "      <td>NaN</td>\n",
       "      <td>NaN</td>\n",
       "    </tr>\n",
       "  </tbody>\n",
       "</table>\n",
       "</div>"
      ],
      "text/plain": [
       "   gi|29898682|gb|AAP11954.1|  92d1264e347e149248231cb9b649388c  547  \\\n",
       "0  gi|29898682|gb|AAP11954.1|  92d1264e347e149248231cb9b649388c  547   \n",
       "1  gi|29898682|gb|AAP11954.1|  92d1264e347e149248231cb9b649388c  547   \n",
       "2  gi|29898682|gb|AAP11954.1|  92d1264e347e149248231cb9b649388c  547   \n",
       "3  gi|29898682|gb|AAP11954.1|  92d1264e347e149248231cb9b649388c  547   \n",
       "4  gi|29898682|gb|AAP11954.1|  92d1264e347e149248231cb9b649388c  547   \n",
       "\n",
       "           TIGRFAM           TIGR03882  \\\n",
       "0          TIGRFAM           TIGR03604   \n",
       "1  ProSiteProfiles             PS51664   \n",
       "2           Gene3D  G3DSA:3.30.160.660   \n",
       "3           Gene3D   G3DSA:3.30.40.250   \n",
       "4          PANTHER           PTHR37809   \n",
       "\n",
       "  cyclo_dehyd_2: bacteriocin biosynthesis cyclodehydratase domain    2  131  \\\n",
       "0  TOMM_cyclo_SagD: thiazole/oxazole-forming pept...               161  547   \n",
       "1                               YcaO domain profile.               159  547   \n",
       "2                                                  -               311  452   \n",
       "3                                                  -               191  274   \n",
       "4  RIBOSOMAL PROTEIN S12 METHYLTHIOTRANSFERASE AC...                95  547   \n",
       "\n",
       "     1.6E-21  T  25-04-2022  IPR022291  \\\n",
       "0        0.0  T  25-04-2022  IPR027624   \n",
       "1  75.396477  T  25-04-2022  IPR003776   \n",
       "2    9.1E-46  T  25-04-2022          -   \n",
       "3    9.1E-46  T  25-04-2022          -   \n",
       "4        0.0  T  25-04-2022          -   \n",
       "\n",
       "   Bacteriocin biosynthesis, cyclodehydratase domain    -  -.1  \n",
       "0  Thiazole/oxazole-forming peptide maturase, Sag...    -    -  \n",
       "1                                   YcaO-like domain    -    -  \n",
       "2                                                  -  NaN  NaN  \n",
       "3                                                  -  NaN  NaN  \n",
       "4                                                  -  NaN  NaN  "
      ]
     },
     "execution_count": 3,
     "metadata": {},
     "output_type": "execute_result"
    }
   ],
   "source": [
    "ddf.head()"
   ]
  },
  {
   "cell_type": "code",
   "execution_count": 60,
   "metadata": {},
   "outputs": [
    {
     "data": {
      "text/plain": [
       "4200590"
      ]
     },
     "execution_count": 60,
     "metadata": {},
     "output_type": "execute_result"
    }
   ],
   "source": [
    "# find the number of samples within this dataset.\n",
    "len(ddf)"
   ]
  },
  {
   "cell_type": "markdown",
   "metadata": {},
   "source": [
    "Before answering the questions, I think finding the columns names of this dataset is the first priority since there is no description and information about the content of each column.\n",
    "\n",
    "After spending fourty minutes in the InterPro website, I found this <a href=\"https://interproscan-docs.readthedocs.io/en/latest/OutputFormats.html#tab-separated-values-format-tsv\" target=\"_blank\">link</a> that contains the information and headings of each column.\n",
    "\n",
    "The TSV format presents the match data in columns as follows:\n",
    "\n",
    "1. **Protein accession** (e.g. P51587): A protein accession is a unique identifier assigned to a protein sequence or entry in a protein database. It serves as a standardized way to uniquely identify and reference specific proteins across different databases and resources. Protein accessions are used to facilitate communication, data sharing, and cross-referencing among researchers, databases, and bioinformatics tools. <a href=\"https://en.wikipedia.org/wiki/Accession_number_(bioinformatics)\" target=\"_blank\">wiki</a>, <a href=\"https://www.ncbi.nlm.nih.gov/books/NBK470040/\" target=\"_blank\">link</a>\n",
    "    \n",
    "2. **Sequence MD5 digest** (e.g. 14086411a2cdf1c4cba63020e1622579): is a cryptographic hash algorithm used to generate a 128-bit digest from a string of any length. It represents the digests as 32 digit hexadecimal numbers. Ronald Rivest designed this algorithm in 1991 to provide the means for digital signature verification. <a href=\"https://www.simplilearn.com/tutorials/cyber-security-tutorial/md5-algorithm\" target=\"_blank\">link</a>\n",
    "\n",
    "3. **Sequence length** (e.g. 3418): Is the number of amino-acids in a protein sequence.\n",
    "\n",
    "4. **Analysis** (e.g. Pfam / PRINTS / Gene3D): Is analyzing methods used by different organizations and universities. FOr more information one can have a look at 'member database' section of the following <a href=\"http://www.ebi.ac.uk/interpro/\" target=\"_blank\">link</a>.\n",
    "    \n",
    "5. **Signature accession** (e.g. PF09103 / G3DSA:2.40.50.140): is the accession number of the proteins related to the analyzing organizatons that they have been accumulated in. \n",
    "   \n",
    "6. **Signature description** (e.g. BRCA2 repeat profile): is a concise explanation of each protein sequence.\n",
    "\n",
    "7. **Start location**: Is the start point of the amino acid sequence in the whole protein structure.\n",
    "   \n",
    "8. **Stop location**: Is the start point of the amino acid sequence in the whole protein structure.\n",
    "\n",
    "9. **Score**: is the e-value (or score) of the match reported by member database method (e.g. 3.1E-52). It means that the likelihood of the observed match occurring randomly is extremely low, indicating a strong indication of a significant match between the query sequence and the database entry. Lower e-values signify more significant matches, while higher values suggest matches that might have occurred by chance.\n",
    "\n",
    "10. **Status**: is the status of the match (T: true)\n",
    "   \n",
    "11. **Date**: is the date of the run\n",
    "\n",
    "12. **InterPro annotations accession** (e.g. IPR002093): is the accesseion number belongs to the InterPro organization.\n",
    "\n",
    "13. **InterPro annotations description** (e.g. BRCA2 repeat): is the description of the proteins stated by InterPro organization.\n",
    "\n",
    "14. **GO annotations** (e.g. GO:0005515): (optional column; only displayed if –goterms option is switched on) The Gene Ontology (GO) stands as a significant bioinformatics endeavor, working towards a cohesive representation of attributes related to genes and gene products across various species. In essence, the project has three main objectives: Firstly, it strives to uphold and enhance a controlled vocabulary encompassing gene and gene product traits. Secondly, it involves the annotation of genes and gene products, collecting and distributing annotation data. Lastly, the project is committed to furnishing tools that facilitate effortless access to the comprehensive project data and allow for the functional understanding of experimental data through the utilization of GO. This includes techniques like enrichment analysis, which aids in extracting meaningful insights from the data. <a href=\"https://en.wikipedia.org/wiki/Gene_Ontology#Annotation\" target=\"_blank\">wiki</a>\n",
    "\n",
    "15. **Pathways annotations** (e.g. REACT_71): (optional column; only displayed if –pathways option is switched on) Frequently, pathway annotations are used to identify mechanisms linked to genes within affected biological contexts. This important role and the simplicity and elegance in representing complex interactions led to an explosion of pathway representations and databases.Pathway analysis approaches use available pathway databases and the given gene expression data to identify the pathways which are significantly impacted in a given condition. Other complementary approaches include network analysis and GO analysis.Moreover,  pathway analysis refers to a method of initial characterization and interpretation of an experimental (or pathological) condition that was studied with omics tools or genome-wide association study. Such studies might identify long lists of altered genes. <a href=\"https://en.wikipedia.org/wiki/Pathway_analysis\" target=\"_blank\">wiki</a>, <a href=\"https://genomebiology.biomedcentral.com/articles/10.1186/s13059-019-1790-4\" target=\"_blank\">link</a>.\n"
   ]
  },
  {
   "cell_type": "code",
   "execution_count": 4,
   "metadata": {},
   "outputs": [],
   "source": [
    "# Add the columns' names\n",
    "ddf.columns =  ['p_accession', 'MD5',\n",
    "                'seq_length', 'analysis',\n",
    "                'sig_accession', 'sig_description',\n",
    "                'start', 'stop',\n",
    "                'score', 'score_status',\n",
    "                'date', 'int_accession',\n",
    "                'int_description', 'GO',\n",
    "                'pathways'\n",
    "                ]  \n",
    "\n",
    "# Replace all the '-' values with None values\n",
    "ddf = ddf.replace(to_replace='-', value=np.nan)"
   ]
  },
  {
   "cell_type": "code",
   "execution_count": 5,
   "metadata": {},
   "outputs": [
    {
     "data": {
      "text/html": [
       "<div>\n",
       "<style scoped>\n",
       "    .dataframe tbody tr th:only-of-type {\n",
       "        vertical-align: middle;\n",
       "    }\n",
       "\n",
       "    .dataframe tbody tr th {\n",
       "        vertical-align: top;\n",
       "    }\n",
       "\n",
       "    .dataframe thead th {\n",
       "        text-align: right;\n",
       "    }\n",
       "</style>\n",
       "<table border=\"1\" class=\"dataframe\">\n",
       "  <thead>\n",
       "    <tr style=\"text-align: right;\">\n",
       "      <th></th>\n",
       "      <th>p_accession</th>\n",
       "      <th>MD5</th>\n",
       "      <th>seq_length</th>\n",
       "      <th>analysis</th>\n",
       "      <th>sig_accession</th>\n",
       "      <th>sig_description</th>\n",
       "      <th>start</th>\n",
       "      <th>stop</th>\n",
       "      <th>score</th>\n",
       "      <th>score_status</th>\n",
       "      <th>date</th>\n",
       "      <th>int_accession</th>\n",
       "      <th>int_description</th>\n",
       "      <th>GO</th>\n",
       "      <th>pathways</th>\n",
       "    </tr>\n",
       "  </thead>\n",
       "  <tbody>\n",
       "    <tr>\n",
       "      <th>0</th>\n",
       "      <td>gi|29898682|gb|AAP11954.1|</td>\n",
       "      <td>92d1264e347e149248231cb9b649388c</td>\n",
       "      <td>547</td>\n",
       "      <td>TIGRFAM</td>\n",
       "      <td>TIGR03604</td>\n",
       "      <td>TOMM_cyclo_SagD: thiazole/oxazole-forming pept...</td>\n",
       "      <td>161</td>\n",
       "      <td>547</td>\n",
       "      <td>0.0</td>\n",
       "      <td>T</td>\n",
       "      <td>25-04-2022</td>\n",
       "      <td>IPR027624</td>\n",
       "      <td>Thiazole/oxazole-forming peptide maturase, Sag...</td>\n",
       "      <td>NaN</td>\n",
       "      <td>NaN</td>\n",
       "    </tr>\n",
       "    <tr>\n",
       "      <th>1</th>\n",
       "      <td>gi|29898682|gb|AAP11954.1|</td>\n",
       "      <td>92d1264e347e149248231cb9b649388c</td>\n",
       "      <td>547</td>\n",
       "      <td>ProSiteProfiles</td>\n",
       "      <td>PS51664</td>\n",
       "      <td>YcaO domain profile.</td>\n",
       "      <td>159</td>\n",
       "      <td>547</td>\n",
       "      <td>75.396477</td>\n",
       "      <td>T</td>\n",
       "      <td>25-04-2022</td>\n",
       "      <td>IPR003776</td>\n",
       "      <td>YcaO-like domain</td>\n",
       "      <td>NaN</td>\n",
       "      <td>NaN</td>\n",
       "    </tr>\n",
       "    <tr>\n",
       "      <th>2</th>\n",
       "      <td>gi|29898682|gb|AAP11954.1|</td>\n",
       "      <td>92d1264e347e149248231cb9b649388c</td>\n",
       "      <td>547</td>\n",
       "      <td>Gene3D</td>\n",
       "      <td>G3DSA:3.30.160.660</td>\n",
       "      <td>NaN</td>\n",
       "      <td>311</td>\n",
       "      <td>452</td>\n",
       "      <td>9.1E-46</td>\n",
       "      <td>T</td>\n",
       "      <td>25-04-2022</td>\n",
       "      <td>NaN</td>\n",
       "      <td>NaN</td>\n",
       "      <td>NaN</td>\n",
       "      <td>NaN</td>\n",
       "    </tr>\n",
       "    <tr>\n",
       "      <th>3</th>\n",
       "      <td>gi|29898682|gb|AAP11954.1|</td>\n",
       "      <td>92d1264e347e149248231cb9b649388c</td>\n",
       "      <td>547</td>\n",
       "      <td>Gene3D</td>\n",
       "      <td>G3DSA:3.30.40.250</td>\n",
       "      <td>NaN</td>\n",
       "      <td>191</td>\n",
       "      <td>274</td>\n",
       "      <td>9.1E-46</td>\n",
       "      <td>T</td>\n",
       "      <td>25-04-2022</td>\n",
       "      <td>NaN</td>\n",
       "      <td>NaN</td>\n",
       "      <td>NaN</td>\n",
       "      <td>NaN</td>\n",
       "    </tr>\n",
       "    <tr>\n",
       "      <th>4</th>\n",
       "      <td>gi|29898682|gb|AAP11954.1|</td>\n",
       "      <td>92d1264e347e149248231cb9b649388c</td>\n",
       "      <td>547</td>\n",
       "      <td>PANTHER</td>\n",
       "      <td>PTHR37809</td>\n",
       "      <td>RIBOSOMAL PROTEIN S12 METHYLTHIOTRANSFERASE AC...</td>\n",
       "      <td>95</td>\n",
       "      <td>547</td>\n",
       "      <td>0.0</td>\n",
       "      <td>T</td>\n",
       "      <td>25-04-2022</td>\n",
       "      <td>NaN</td>\n",
       "      <td>NaN</td>\n",
       "      <td>NaN</td>\n",
       "      <td>NaN</td>\n",
       "    </tr>\n",
       "  </tbody>\n",
       "</table>\n",
       "</div>"
      ],
      "text/plain": [
       "                  p_accession                               MD5  seq_length  \\\n",
       "0  gi|29898682|gb|AAP11954.1|  92d1264e347e149248231cb9b649388c         547   \n",
       "1  gi|29898682|gb|AAP11954.1|  92d1264e347e149248231cb9b649388c         547   \n",
       "2  gi|29898682|gb|AAP11954.1|  92d1264e347e149248231cb9b649388c         547   \n",
       "3  gi|29898682|gb|AAP11954.1|  92d1264e347e149248231cb9b649388c         547   \n",
       "4  gi|29898682|gb|AAP11954.1|  92d1264e347e149248231cb9b649388c         547   \n",
       "\n",
       "          analysis       sig_accession  \\\n",
       "0          TIGRFAM           TIGR03604   \n",
       "1  ProSiteProfiles             PS51664   \n",
       "2           Gene3D  G3DSA:3.30.160.660   \n",
       "3           Gene3D   G3DSA:3.30.40.250   \n",
       "4          PANTHER           PTHR37809   \n",
       "\n",
       "                                     sig_description  start  stop      score  \\\n",
       "0  TOMM_cyclo_SagD: thiazole/oxazole-forming pept...    161   547        0.0   \n",
       "1                               YcaO domain profile.    159   547  75.396477   \n",
       "2                                                NaN    311   452    9.1E-46   \n",
       "3                                                NaN    191   274    9.1E-46   \n",
       "4  RIBOSOMAL PROTEIN S12 METHYLTHIOTRANSFERASE AC...     95   547        0.0   \n",
       "\n",
       "  score_status        date int_accession  \\\n",
       "0            T  25-04-2022     IPR027624   \n",
       "1            T  25-04-2022     IPR003776   \n",
       "2            T  25-04-2022           NaN   \n",
       "3            T  25-04-2022           NaN   \n",
       "4            T  25-04-2022           NaN   \n",
       "\n",
       "                                     int_description   GO pathways  \n",
       "0  Thiazole/oxazole-forming peptide maturase, Sag...  NaN      NaN  \n",
       "1                                   YcaO-like domain  NaN      NaN  \n",
       "2                                                NaN  NaN      NaN  \n",
       "3                                                NaN  NaN      NaN  \n",
       "4                                                NaN  NaN      NaN  "
      ]
     },
     "execution_count": 5,
     "metadata": {},
     "output_type": "execute_result"
    }
   ],
   "source": [
    "ddf.head()"
   ]
  },
  {
   "cell_type": "markdown",
   "metadata": {},
   "source": [
    "Now the dataset is barely ready for answering the questions:\n",
    "\n",
    "# Questions\n",
    "1. How many distinct protein annotations are found in the dataset? I.e. how many distinc InterPRO numbers are there?\n",
    "\n",
    "To answer this question one can count the unique values of the 'int_accession' column that represent the number of protein annotations exist in InterPro company."
   ]
  },
  {
   "cell_type": "code",
   "execution_count": 27,
   "metadata": {},
   "outputs": [
    {
     "name": "stdout",
     "output_type": "stream",
     "text": [
      "the number of distinct InterPro annotations: 9703\n"
     ]
    }
   ],
   "source": [
    "# find the number of InterPro protein accessions\n",
    "dist_accession_interpro = ddf.int_accession.nunique().compute()\n",
    "print(f'the number of distinct InterPro annotations: {dist_accession_interpro}')"
   ]
  },
  {
   "cell_type": "markdown",
   "metadata": {},
   "source": [
    "The calculated number is quite smaller than the number of samples in the dataset. Indeed, the dataset contains more than four million samples while the number of unique annotations of InterPro company is only around 9700. Consequently, before starting the next question, I will evaluate the number of null values for this dataset."
   ]
  },
  {
   "cell_type": "code",
   "execution_count": null,
   "metadata": {},
   "outputs": [
    {
     "data": {
      "text/plain": [
       "p_accession               0\n",
       "MD5                       0\n",
       "seq_lenght                0\n",
       "analysis                  0\n",
       "sig_accession             0\n",
       "sig_description      314330\n",
       "strat                     0\n",
       "stop                      0\n",
       "score               1530373\n",
       "score_status              0\n",
       "date                      0\n",
       "int_accession       2278774\n",
       "int_descripssion    2278774\n",
       "GO                  3224750\n",
       "pathways            2748490\n",
       "dtype: int64"
      ]
     },
     "execution_count": 14,
     "metadata": {},
     "output_type": "execute_result"
    }
   ],
   "source": [
    "# find the summation of the null values for each column\n",
    "ddf.isna().sum().compute()"
   ]
  },
  {
   "cell_type": "markdown",
   "metadata": {},
   "source": [
    "About half of the 'InterPro' accession column is null values. It MAY show that the InterPro company has not analyzed the unlabelled protein sequences by itself (protein sequences without InterPro accession number), and it only gathered all of these sequences from other sources.\n",
    "\n",
    "2. How many annotations does a protein have on average?\n",
    "\n",
    "to find the number of annotation for each protein one can first groupby protein accession, then take the average number of InterPro accession column. However, InterPro accession column contains about 50% none values; consequently, instead of using the mentioned column, one can use other columns that do not contain any None values. In this question, I will use 'sig_accession' column."
   ]
  },
  {
   "cell_type": "code",
   "execution_count": 33,
   "metadata": {},
   "outputs": [
    {
     "name": "stdout",
     "output_type": "stream",
     "text": [
      "the average number of annotaion per protein is: 11.491\n"
     ]
    }
   ],
   "source": [
    "avg_annot_prot = ddf.groupby('p_accession').sig_accession.count().mean().compute()\n",
    "\n",
    "print(f'the average number of annotaion per protein is: {round(avg_annot_prot, 3)}')"
   ]
  },
  {
   "cell_type": "markdown",
   "metadata": {},
   "source": [
    "So, it means that for each protein, there are about 11 different annotations. One can count the number of unique proteins in this dataset."
   ]
  },
  {
   "cell_type": "code",
   "execution_count": null,
   "metadata": {},
   "outputs": [
    {
     "name": "stdout",
     "output_type": "stream",
     "text": [
      "the number of distinct protein accession: 365570\n"
     ]
    }
   ],
   "source": [
    "# find the number of unique protein accessions\n",
    "dist_accession_protein = ddf.p_accession.nunique().compute()\n",
    "print(f'the number of distinct protein accession: {dist_accession_protein}')"
   ]
  },
  {
   "cell_type": "markdown",
   "metadata": {},
   "source": [
    "It shows that the dataset contains more than 365000 different proteins!!!\n",
    "\n",
    "3. What is the most common GO Term found?\n",
    "\n",
    "**GO term (Gene Ontology term)**: It refers to a term which has the following structure: \"GO:number\". This number stores in the 'GO' column of this dataset. While 3224750 values are none values in this column, still around one million annotations are included under the umbrella of this categorization technique. More information is available in the following [link](https://en.wikipedia.org/wiki/Gene_Ontology)."
   ]
  },
  {
   "cell_type": "code",
   "execution_count": 56,
   "metadata": {},
   "outputs": [
    {
     "name": "stdout",
     "output_type": "stream",
     "text": [
      "the most common GO terms in this dataset are: ['GO:0003700', 'GO:0006355']\n"
     ]
    }
   ],
   "source": [
    "# Make the GO term series\n",
    "go_term_series = ddf.GO.str.split('|').compute()\n",
    "print(f'the most common GO terms in this dataset are: {go_term_series.mode()[0]}')\n"
   ]
  },
  {
   "cell_type": "markdown",
   "metadata": {},
   "source": [
    "The above GO terms are the most abundant ones.\n",
    "\n",
    "4. What is the average size of an InterPRO feature found in the dataset?\n",
    "\n",
    "To find the size of each InterPro feature one should subtract stop column from start column since the mentioned feature has a root in that specific part of the protein sequence."
   ]
  },
  {
   "cell_type": "code",
   "execution_count": 63,
   "metadata": {},
   "outputs": [
    {
     "name": "stdout",
     "output_type": "stream",
     "text": [
      "The average size of the features is: 131.732\n"
     ]
    }
   ],
   "source": [
    "# Subtract the stop from start\n",
    "feature_size_avg = (ddf.stop - ddf.start).mean().compute()\n",
    "\n",
    "print(f'The average size of the features is: {round(feature_size_avg, 3)}')"
   ]
  },
  {
   "cell_type": "markdown",
   "metadata": {},
   "source": [
    "The above number is the average number of amino acides in the feature sequences.\n",
    "\n",
    "5. What is the top 10 most common InterPRO features?\n",
    "\n",
    "Since this question requires us to find the top 10 most common 'InterPro' features, I will used 'InterPro' accessions. Because The \"InterPro accession\" refers to an identifier assigned to a specific entry or feature within the InterPro database. The reason to which I will not use signiture accession is that The 'signature accession' refers to an identifier assigned to a specific feature or prediction made by a specific analysis or algorithm. Consequently, these features are accumulated from different resources and may not be in the InterPro dataset directly."
   ]
  },
  {
   "cell_type": "code",
   "execution_count": 15,
   "metadata": {},
   "outputs": [
    {
     "name": "stdout",
     "output_type": "stream",
     "text": [
      "Top 10 most common InterPRO features:\n",
      "IPR027417    46834\n",
      "IPR002347    18077\n",
      "IPR003439    16944\n",
      "IPR036388    16291\n",
      "IPR036259    12602\n",
      "IPR003593    11521\n",
      "IPR036390    11304\n",
      "IPR036291    10716\n",
      "IPR000515    10613\n",
      "IPR001789    10471\n",
      "Name: int_accession, dtype: int64\n"
     ]
    }
   ],
   "source": [
    "# Finding the top ten InterPro features\n",
    "top_10_common_interpro_features = ddf.int_accession.value_counts().nlargest(10).compute()\n",
    "print(f'Top 10 most common InterPRO features:\\n{top_10_common_interpro_features}')"
   ]
  },
  {
   "cell_type": "markdown",
   "metadata": {},
   "source": [
    "These are the most common InterPro features based on the totl number of their repitition in the dataset.\n",
    "\n",
    "6. If you select InterPRO features that are almost the same size (within 90-100%) as the protein itself, what is the top10 then?\n",
    "\n",
    "To find this, one needs to make a comparison between the lenght of the proteins and length of the feaures, and slice the part of the dataframe in which the lenght of the sequences are roughly equal to the size of their proteins."
   ]
  },
  {
   "cell_type": "code",
   "execution_count": 61,
   "metadata": {},
   "outputs": [],
   "source": [
    "# make the sliced dataframe\n",
    "ddf_same_size = ddf[((ddf.stop - ddf.start + 1) / ddf.seq_length) >= 0.9]"
   ]
  },
  {
   "cell_type": "code",
   "execution_count": 62,
   "metadata": {},
   "outputs": [
    {
     "data": {
      "text/html": [
       "<div>\n",
       "<style scoped>\n",
       "    .dataframe tbody tr th:only-of-type {\n",
       "        vertical-align: middle;\n",
       "    }\n",
       "\n",
       "    .dataframe tbody tr th {\n",
       "        vertical-align: top;\n",
       "    }\n",
       "\n",
       "    .dataframe thead th {\n",
       "        text-align: right;\n",
       "    }\n",
       "</style>\n",
       "<table border=\"1\" class=\"dataframe\">\n",
       "  <thead>\n",
       "    <tr style=\"text-align: right;\">\n",
       "      <th></th>\n",
       "      <th>p_accession</th>\n",
       "      <th>MD5</th>\n",
       "      <th>seq_length</th>\n",
       "      <th>analysis</th>\n",
       "      <th>sig_accession</th>\n",
       "      <th>sig_description</th>\n",
       "      <th>start</th>\n",
       "      <th>stop</th>\n",
       "      <th>score</th>\n",
       "      <th>score_status</th>\n",
       "      <th>date</th>\n",
       "      <th>int_accession</th>\n",
       "      <th>int_description</th>\n",
       "      <th>GO</th>\n",
       "      <th>pathways</th>\n",
       "    </tr>\n",
       "  </thead>\n",
       "  <tbody>\n",
       "    <tr>\n",
       "      <th>8</th>\n",
       "      <td>gi|29894058|gb|AAP07350.1|</td>\n",
       "      <td>b993c5cdda01fc20b0509cc528db817c</td>\n",
       "      <td>233</td>\n",
       "      <td>PANTHER</td>\n",
       "      <td>PTHR48111:SF2</td>\n",
       "      <td>TWO-COMPONENT RESPONSE REGULATOR</td>\n",
       "      <td>1</td>\n",
       "      <td>231</td>\n",
       "      <td>7.9E-108</td>\n",
       "      <td>T</td>\n",
       "      <td>25-04-2022</td>\n",
       "      <td>NaN</td>\n",
       "      <td>NaN</td>\n",
       "      <td>NaN</td>\n",
       "      <td>NaN</td>\n",
       "    </tr>\n",
       "    <tr>\n",
       "      <th>9</th>\n",
       "      <td>gi|29894058|gb|AAP07350.1|</td>\n",
       "      <td>b993c5cdda01fc20b0509cc528db817c</td>\n",
       "      <td>233</td>\n",
       "      <td>PANTHER</td>\n",
       "      <td>PTHR48111</td>\n",
       "      <td>REGULATOR OF RPOS</td>\n",
       "      <td>1</td>\n",
       "      <td>231</td>\n",
       "      <td>7.9E-108</td>\n",
       "      <td>T</td>\n",
       "      <td>25-04-2022</td>\n",
       "      <td>IPR039420</td>\n",
       "      <td>Transcriptional regulatory protein WalR-like</td>\n",
       "      <td>NaN</td>\n",
       "      <td>NaN</td>\n",
       "    </tr>\n",
       "    <tr>\n",
       "      <th>28</th>\n",
       "      <td>gi|29898568|gb|AAP11840.1|</td>\n",
       "      <td>c786b388c4df6c790dfaa48efbfe2d1c</td>\n",
       "      <td>244</td>\n",
       "      <td>PANTHER</td>\n",
       "      <td>PTHR30204:SF55</td>\n",
       "      <td>HTH-TYPE TRANSCRIPTIONAL ACTIVATOR MTA</td>\n",
       "      <td>1</td>\n",
       "      <td>235</td>\n",
       "      <td>1.3E-65</td>\n",
       "      <td>T</td>\n",
       "      <td>25-04-2022</td>\n",
       "      <td>NaN</td>\n",
       "      <td>NaN</td>\n",
       "      <td>NaN</td>\n",
       "      <td>NaN</td>\n",
       "    </tr>\n",
       "    <tr>\n",
       "      <th>30</th>\n",
       "      <td>gi|29898568|gb|AAP11840.1|</td>\n",
       "      <td>c786b388c4df6c790dfaa48efbfe2d1c</td>\n",
       "      <td>244</td>\n",
       "      <td>PANTHER</td>\n",
       "      <td>PTHR30204</td>\n",
       "      <td>REDOX-CYCLING DRUG-SENSING TRANSCRIPTIONAL ACT...</td>\n",
       "      <td>1</td>\n",
       "      <td>235</td>\n",
       "      <td>1.3E-65</td>\n",
       "      <td>T</td>\n",
       "      <td>25-04-2022</td>\n",
       "      <td>NaN</td>\n",
       "      <td>NaN</td>\n",
       "      <td>NaN</td>\n",
       "      <td>NaN</td>\n",
       "    </tr>\n",
       "    <tr>\n",
       "      <th>35</th>\n",
       "      <td>gi|29897770|gb|AAP11045.1|</td>\n",
       "      <td>42516c375fd688e857358c633cb41b19</td>\n",
       "      <td>399</td>\n",
       "      <td>TIGRFAM</td>\n",
       "      <td>TIGR00707</td>\n",
       "      <td>argD: transaminase, acetylornithine/succinylor...</td>\n",
       "      <td>18</td>\n",
       "      <td>391</td>\n",
       "      <td>0.0</td>\n",
       "      <td>T</td>\n",
       "      <td>25-04-2022</td>\n",
       "      <td>IPR004636</td>\n",
       "      <td>Acetylornithine/Succinylornithine transaminase...</td>\n",
       "      <td>GO:0006525|GO:0008483</td>\n",
       "      <td>MetaCyc: PWY-1186|MetaCyc: PWY-3081|MetaCyc: P...</td>\n",
       "    </tr>\n",
       "  </tbody>\n",
       "</table>\n",
       "</div>"
      ],
      "text/plain": [
       "                   p_accession                               MD5  seq_length  \\\n",
       "8   gi|29894058|gb|AAP07350.1|  b993c5cdda01fc20b0509cc528db817c         233   \n",
       "9   gi|29894058|gb|AAP07350.1|  b993c5cdda01fc20b0509cc528db817c         233   \n",
       "28  gi|29898568|gb|AAP11840.1|  c786b388c4df6c790dfaa48efbfe2d1c         244   \n",
       "30  gi|29898568|gb|AAP11840.1|  c786b388c4df6c790dfaa48efbfe2d1c         244   \n",
       "35  gi|29897770|gb|AAP11045.1|  42516c375fd688e857358c633cb41b19         399   \n",
       "\n",
       "   analysis   sig_accession  \\\n",
       "8   PANTHER   PTHR48111:SF2   \n",
       "9   PANTHER       PTHR48111   \n",
       "28  PANTHER  PTHR30204:SF55   \n",
       "30  PANTHER       PTHR30204   \n",
       "35  TIGRFAM       TIGR00707   \n",
       "\n",
       "                                      sig_description  start  stop     score  \\\n",
       "8                    TWO-COMPONENT RESPONSE REGULATOR      1   231  7.9E-108   \n",
       "9                                   REGULATOR OF RPOS      1   231  7.9E-108   \n",
       "28             HTH-TYPE TRANSCRIPTIONAL ACTIVATOR MTA      1   235   1.3E-65   \n",
       "30  REDOX-CYCLING DRUG-SENSING TRANSCRIPTIONAL ACT...      1   235   1.3E-65   \n",
       "35  argD: transaminase, acetylornithine/succinylor...     18   391       0.0   \n",
       "\n",
       "   score_status        date int_accession  \\\n",
       "8             T  25-04-2022           NaN   \n",
       "9             T  25-04-2022     IPR039420   \n",
       "28            T  25-04-2022           NaN   \n",
       "30            T  25-04-2022           NaN   \n",
       "35            T  25-04-2022     IPR004636   \n",
       "\n",
       "                                      int_description                     GO  \\\n",
       "8                                                 NaN                    NaN   \n",
       "9        Transcriptional regulatory protein WalR-like                    NaN   \n",
       "28                                                NaN                    NaN   \n",
       "30                                                NaN                    NaN   \n",
       "35  Acetylornithine/Succinylornithine transaminase...  GO:0006525|GO:0008483   \n",
       "\n",
       "                                             pathways  \n",
       "8                                                 NaN  \n",
       "9                                                 NaN  \n",
       "28                                                NaN  \n",
       "30                                                NaN  \n",
       "35  MetaCyc: PWY-1186|MetaCyc: PWY-3081|MetaCyc: P...  "
      ]
     },
     "execution_count": 62,
     "metadata": {},
     "output_type": "execute_result"
    }
   ],
   "source": [
    "ddf_same_size.head()"
   ]
  },
  {
   "cell_type": "code",
   "execution_count": 63,
   "metadata": {},
   "outputs": [
    {
     "name": "stdout",
     "output_type": "stream",
     "text": [
      "the lenght of the sliced dataset is: 928079\n"
     ]
    }
   ],
   "source": [
    "print(f'the lenght of the sliced dataset is: {len(ddf_same_size)}')"
   ]
  },
  {
   "cell_type": "markdown",
   "metadata": {},
   "source": [
    "These two features shows that the dataset is correctly sliced."
   ]
  },
  {
   "cell_type": "code",
   "execution_count": 64,
   "metadata": {},
   "outputs": [
    {
     "name": "stdout",
     "output_type": "stream",
     "text": [
      "Top 10 most common InterPRO features(for whole proteins):\n",
      "IPR027417    9341\n",
      "IPR036259    7669\n",
      "IPR020846    4223\n",
      "IPR029058    4063\n",
      "IPR036388    3677\n",
      "IPR000182    3418\n",
      "IPR029063    3127\n",
      "IPR013785    3116\n",
      "IPR036291    3081\n",
      "IPR015424    2916\n",
      "Name: int_accession, dtype: int64\n"
     ]
    }
   ],
   "source": [
    "top_10_same_size = ddf_same_size.int_accession.value_counts().nlargest(10).compute()\n",
    "print(f'Top 10 most common InterPRO features(for whole proteins):\\n{top_10_same_size}')"
   ]
  },
  {
   "cell_type": "markdown",
   "metadata": {},
   "source": [
    "These are the new top ten. Interesingly, the most common feature in both of the conditions are the same. That can be infer from the quite high number of the first feature's members.\n",
    "\n",
    "7. If you look at those features which also have textual annotation, what is the top 10 most common word found in that annotation?\n",
    "\n",
    "To answer this question, one can first split the InterPro description column to make a dask series of word lists, then explode thelist and concat all the elements into another dask series."
   ]
  },
  {
   "cell_type": "code",
   "execution_count": 65,
   "metadata": {},
   "outputs": [
    {
     "name": "stdout",
     "output_type": "stream",
     "text": [
      "Top 10 most common words InterPRO descriptions:\n",
      "domain         623884\n",
      "superfamily    322259\n",
      "protein        183507\n",
      "C-terminal     100810\n",
      "site            74709\n",
      "hydrolase       73451\n",
      "DNA-binding     64627\n",
      "N-terminal      64427\n",
      "conserved       56440\n",
      "family          54467\n",
      "Name: int_description, dtype: int64\n"
     ]
    }
   ],
   "source": [
    "# make a series of the InterPro descriptions\n",
    "ddf_description = ddf.int_description.str.split(' ').compute()\n",
    "\n",
    "# create a new Dask Series with all elements from the lists\n",
    "flattened_ddf_description = dd.concat([ddf_description.explode()], axis=0)\n",
    "\n",
    "# find the top most frequent words\n",
    "top_10_words = flattened_ddf_description.value_counts().nlargest(10)\n",
    "print(f'Top 10 most common words InterPRO descriptions:\\n{top_10_words}')"
   ]
  },
  {
   "cell_type": "markdown",
   "metadata": {},
   "source": [
    "The term \"domain\" appears most frequently in the \"InterPro description\" column. This correlation is understandable given that the features delineate various protein domains.\n",
    "\n",
    "8. And the top 10 least common?\n",
    "\n",
    "One can just change the 'nlargest' function to 'nsmallest'."
   ]
  },
  {
   "cell_type": "code",
   "execution_count": 66,
   "metadata": {},
   "outputs": [
    {
     "name": "stdout",
     "output_type": "stream",
     "text": [
      "Top 10 least common words in InterPRO description:\n",
      "MoFe                  1\n",
      "DUF2269,              1\n",
      "Alpha-amylase-like    1\n",
      "NifZ                  1\n",
      "TRASH                 1\n",
      "Flp/Fap               1\n",
      "polymyxin             1\n",
      "MASE3                 1\n",
      "M15A,                 1\n",
      "Glutaredoxin-like,    1\n",
      "Name: int_description, dtype: int64\n"
     ]
    }
   ],
   "source": [
    "# find the least frequent words\n",
    "top_10_least_common_words = flattened_ddf_description.value_counts().nsmallest(10)\n",
    "print(f'Top 10 least common words in InterPRO description:\\n{top_10_least_common_words}')"
   ]
  },
  {
   "cell_type": "markdown",
   "metadata": {},
   "source": [
    "9. Combining your answers for Q6 and Q7, what are the 10 most commons words found for the largest InterPRO features?\n",
    "\n",
    "To answer this question one can use the Q6 dataframe, and implement the Q7 operations on this dataframe.  "
   ]
  },
  {
   "cell_type": "code",
   "execution_count": 68,
   "metadata": {},
   "outputs": [
    {
     "name": "stdout",
     "output_type": "stream",
     "text": [
      "Top 10 most common words InterPRO descriptions:\n",
      "superfamily    91041\n",
      "protein        81892\n",
      "domain         72348\n",
      "subunit        24792\n",
      "family         20478\n",
      "Ribosomal      19911\n",
      "hydrolase      17383\n",
      "synthase       16729\n",
      "transporter    16272\n",
      "Protein        14326\n",
      "Name: int_description, dtype: int64\n"
     ]
    }
   ],
   "source": [
    "# make a series of the InterPro descriptions\n",
    "ddf_same_size_des = ddf_same_size.int_description.str.split(' ').compute()\n",
    "\n",
    "# create a new Dask Series with all elements from the lists\n",
    "flattened_ddf_same_size_des = dd.concat([ddf_same_size_des.explode()], axis=0)\n",
    "\n",
    "# find the top most frequent words\n",
    "top_10_words_size = flattened_ddf_same_size_des.value_counts().nlargest(10)\n",
    "print(f'Top 10 most common words InterPRO descriptions:\\n{top_10_words_size}')"
   ]
  },
  {
   "cell_type": "markdown",
   "metadata": {},
   "source": [
    "It is really interesting that I get another set of words here. domain is not the most common word anymore in this dataset, instead superfamily gains the first place in this dataframe.\n",
    "\n",
    "10. What is the coefficient of correlation ($R^2$) between the size of the protein and the number of features found?\n",
    "\n",
    "First of all, the question mentioned that to calculate 'coefficient of correlation' which is $R$ not $R^2$, and $R^2$ is the 'coefficient of determination' used as the score of a regression model. Consequently, in this question I suppose that the intention was to calculate 'coefficient of correlation' not the actual $R^2$. The reason is that it is more probable to make a mistake while writing abbreviations other than the actual name.\n",
    "\n",
    "Moreover, the question does not mention 'InterPro' features; consequently, I will use signiture features in this question. "
   ]
  },
  {
   "cell_type": "code",
   "execution_count": 86,
   "metadata": {},
   "outputs": [
    {
     "data": {
      "text/html": [
       "<div>\n",
       "<style scoped>\n",
       "    .dataframe tbody tr th:only-of-type {\n",
       "        vertical-align: middle;\n",
       "    }\n",
       "\n",
       "    .dataframe tbody tr th {\n",
       "        vertical-align: top;\n",
       "    }\n",
       "\n",
       "    .dataframe thead th {\n",
       "        text-align: right;\n",
       "    }\n",
       "</style>\n",
       "<table border=\"1\" class=\"dataframe\">\n",
       "  <thead>\n",
       "    <tr style=\"text-align: right;\">\n",
       "      <th></th>\n",
       "      <th>seq_length</th>\n",
       "      <th>sig_accession</th>\n",
       "    </tr>\n",
       "  </thead>\n",
       "  <tbody>\n",
       "    <tr>\n",
       "      <th>0</th>\n",
       "      <td>31</td>\n",
       "      <td>391</td>\n",
       "    </tr>\n",
       "    <tr>\n",
       "      <th>1</th>\n",
       "      <td>33</td>\n",
       "      <td>447</td>\n",
       "    </tr>\n",
       "    <tr>\n",
       "      <th>2</th>\n",
       "      <td>35</td>\n",
       "      <td>373</td>\n",
       "    </tr>\n",
       "    <tr>\n",
       "      <th>3</th>\n",
       "      <td>36</td>\n",
       "      <td>352</td>\n",
       "    </tr>\n",
       "    <tr>\n",
       "      <th>4</th>\n",
       "      <td>37</td>\n",
       "      <td>1788</td>\n",
       "    </tr>\n",
       "  </tbody>\n",
       "</table>\n",
       "</div>"
      ],
      "text/plain": [
       "   seq_length  sig_accession\n",
       "0          31            391\n",
       "1          33            447\n",
       "2          35            373\n",
       "3          36            352\n",
       "4          37           1788"
      ]
     },
     "execution_count": 86,
     "metadata": {},
     "output_type": "execute_result"
    }
   ],
   "source": [
    "# make a Dask Dataframe based on the size and number of the features\n",
    "feature_num = ddf.groupby('seq_length').sig_accession.count().compute()\n",
    "feature_num_size = feature_num.reset_index()\n",
    "feature_num_size.head()"
   ]
  },
  {
   "cell_type": "code",
   "execution_count": 87,
   "metadata": {},
   "outputs": [
    {
     "name": "stdout",
     "output_type": "stream",
     "text": [
      " THe Coefficient of Correlation between size and number of features is: -0.5113763803251007\n"
     ]
    }
   ],
   "source": [
    "# Calculate the 'Coefficient of Correlation'\n",
    "coef_corr = feature_num_size['seq_length'].corr(feature_num_size['sig_accession'], method='pearson')\n",
    "print(f' THe Coefficient of Correlation between size and number of features is: {coef_corr}')"
   ]
  },
  {
   "cell_type": "code",
   "execution_count": 11,
   "metadata": {},
   "outputs": [],
   "source": [
    "def scatter_plotter(ddf):\n",
    "    \n",
    "    # make the plot\n",
    "    plt.figure()\n",
    "    plt.scatter(ddf.iloc[:,0], ddf.iloc[:,1], s=5, c='salmon')\n",
    "    \n",
    "    # add the titles\n",
    "    plt.title(\"Scatter Plot\")\n",
    "    plt.xlabel(f'{ddf.columns[0]}')\n",
    "    plt.ylabel(f'{ddf.columns[1]}')\n",
    "\n",
    "    plt.show()"
   ]
  },
  {
   "cell_type": "code",
   "execution_count": 90,
   "metadata": {},
   "outputs": [
    {
     "data": {
      "image/png": "[encoded data removed]",
      "text/plain": [
       "<Figure size 640x480 with 1 Axes>"
      ]
     },
     "metadata": {},
     "output_type": "display_data"
    }
   ],
   "source": [
    "scatter_plotter(feature_num_size)"
   ]
  },
  {
   "cell_type": "markdown",
   "metadata": {},
   "source": [
    "It shows that there is a moderate inverse relation between the size and the number of features. Also, the scatter plot shows a moderate relation between the mentioned columns.\n",
    "\n",
    "For the last part of this assignment, I will calculate the Coefficient of the Correlation by using 'InterPro' features to see whether there is any differences between these two relations. "
   ]
  },
  {
   "cell_type": "code",
   "execution_count": 7,
   "metadata": {},
   "outputs": [
    {
     "data": {
      "text/html": [
       "<div>\n",
       "<style scoped>\n",
       "    .dataframe tbody tr th:only-of-type {\n",
       "        vertical-align: middle;\n",
       "    }\n",
       "\n",
       "    .dataframe tbody tr th {\n",
       "        vertical-align: top;\n",
       "    }\n",
       "\n",
       "    .dataframe thead th {\n",
       "        text-align: right;\n",
       "    }\n",
       "</style>\n",
       "<table border=\"1\" class=\"dataframe\">\n",
       "  <thead>\n",
       "    <tr style=\"text-align: right;\">\n",
       "      <th></th>\n",
       "      <th>seq_length</th>\n",
       "      <th>int_accession</th>\n",
       "    </tr>\n",
       "  </thead>\n",
       "  <tbody>\n",
       "    <tr>\n",
       "      <th>0</th>\n",
       "      <td>31</td>\n",
       "      <td>61</td>\n",
       "    </tr>\n",
       "    <tr>\n",
       "      <th>1</th>\n",
       "      <td>33</td>\n",
       "      <td>38</td>\n",
       "    </tr>\n",
       "    <tr>\n",
       "      <th>2</th>\n",
       "      <td>35</td>\n",
       "      <td>89</td>\n",
       "    </tr>\n",
       "    <tr>\n",
       "      <th>3</th>\n",
       "      <td>36</td>\n",
       "      <td>67</td>\n",
       "    </tr>\n",
       "    <tr>\n",
       "      <th>4</th>\n",
       "      <td>37</td>\n",
       "      <td>592</td>\n",
       "    </tr>\n",
       "  </tbody>\n",
       "</table>\n",
       "</div>"
      ],
      "text/plain": [
       "   seq_length  int_accession\n",
       "0          31             61\n",
       "1          33             38\n",
       "2          35             89\n",
       "3          36             67\n",
       "4          37            592"
      ]
     },
     "execution_count": 7,
     "metadata": {},
     "output_type": "execute_result"
    }
   ],
   "source": [
    "# make a Dask Dataframe based on the size and number of the InterPro features\n",
    "interpro_feature_num = ddf.groupby('seq_length').int_accession.count().compute()\n",
    "interpro_feature_num_size = interpro_feature_num.reset_index()\n",
    "interpro_feature_num_size.head()"
   ]
  },
  {
   "cell_type": "code",
   "execution_count": 9,
   "metadata": {},
   "outputs": [
    {
     "name": "stdout",
     "output_type": "stream",
     "text": [
      " THe Coefficient of Correlation between size and number of features is: -0.5034425026048024\n"
     ]
    }
   ],
   "source": [
    "# Calculate the 'Coefficient of Correlation'\n",
    "interpro_coef_corr = interpro_feature_num_size['seq_length'].corr(interpro_feature_num_size['int_accession'], method='pearson')\n",
    "print(f' THe Coefficient of Correlation between size and number of features is: {interpro_coef_corr}')"
   ]
  },
  {
   "cell_type": "code",
   "execution_count": 12,
   "metadata": {},
   "outputs": [
    {
     "data": {
      "image/png": "[encoded data removed]",
      "text/plain": [
       "<Figure size 640x480 with 1 Axes>"
      ]
     },
     "metadata": {},
     "output_type": "display_data"
    }
   ],
   "source": [
    "scatter_plotter(interpro_feature_num_size)"
   ]
  },
  {
   "cell_type": "markdown",
   "metadata": {},
   "source": [
    "It seems that the relations are pretty the same. "
   ]
  }
 ],
 "metadata": {
  "kernelspec": {
   "display_name": "Python 3",
   "language": "python",
   "name": "python3"
  },
  "language_info": {
   "codemirror_mode": {
    "name": "ipython",
    "version": 3
   },
   "file_extension": ".py",
   "mimetype": "text/x-python",
   "name": "python",
   "nbconvert_exporter": "python",
   "pygments_lexer": "ipython3",
   "version": "3.10.8"
  },
  "orig_nbformat": 4
 },
 "nbformat": 4,
 "nbformat_minor": 2
}
