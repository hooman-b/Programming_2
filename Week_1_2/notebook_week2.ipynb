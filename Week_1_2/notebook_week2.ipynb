{
 "cells": [
  {
   "attachments": {},
   "cell_type": "markdown",
   "metadata": {},
   "source": [
    "# Classes and instances\n",
    "As a physicist this exercise is one of my favourite as I can see how can I use these techniques to solve a physical chemistry problem. \n",
    "\n",
    "## Python Keywords\n",
    "### assert\n",
    "The assert keyword is used when debugging code. The assert keyword lets you test if a condition in your code returns True, if not, the program will raise an AssertionError. You can write a message to be written if the code returns False, check the example below.\n",
    "\n",
    "https://realpython.com/python-assert-statement/"
   ]
  },
  {
   "cell_type": "code",
   "execution_count": 13,
   "metadata": {},
   "outputs": [
    {
     "ename": "AssertionError",
     "evalue": "x should be hello",
     "output_type": "error",
     "traceback": [
      "\u001b[1;31m---------------------------------------------------------------------------\u001b[0m",
      "\u001b[1;31mAssertionError\u001b[0m                            Traceback (most recent call last)",
      "\u001b[1;32m~\\AppData\\Local\\Temp\\ipykernel_1020\\2053769577.py\u001b[0m in \u001b[0;36m<module>\u001b[1;34m\u001b[0m\n\u001b[0;32m      2\u001b[0m \u001b[1;33m\u001b[0m\u001b[0m\n\u001b[0;32m      3\u001b[0m \u001b[1;31m#if condition returns False, AssertionError is raised:\u001b[0m\u001b[1;33m\u001b[0m\u001b[1;33m\u001b[0m\u001b[0m\n\u001b[1;32m----> 4\u001b[1;33m \u001b[1;32massert\u001b[0m \u001b[0mx\u001b[0m \u001b[1;33m==\u001b[0m \u001b[1;34m\"chao\"\u001b[0m\u001b[1;33m,\u001b[0m\u001b[0;31m \u001b[0m\u001b[0;31m\\\u001b[0m\u001b[1;33m\u001b[0m\u001b[1;33m\u001b[0m\u001b[0m\n\u001b[0m\u001b[0;32m      5\u001b[0m             \u001b[1;34mf'x should be hello'\u001b[0m\u001b[1;33m\u001b[0m\u001b[1;33m\u001b[0m\u001b[0m\n\u001b[0;32m      6\u001b[0m \u001b[1;32massert\u001b[0m \u001b[0mx\u001b[0m \u001b[1;33m==\u001b[0m \u001b[1;34m\"goodbye\"\u001b[0m\u001b[1;33m,\u001b[0m \u001b[1;34m\"x should be 'hello'\"\u001b[0m\u001b[1;33m\u001b[0m\u001b[1;33m\u001b[0m\u001b[0m\n",
      "\u001b[1;31mAssertionError\u001b[0m: x should be hello"
     ]
    }
   ],
   "source": [
    "x = \"hello\"\n",
    "\n",
    "#if condition returns False, AssertionError is raised:\n",
    "assert x == \"goodbye\", \"x should be 'hello'\"\n",
    "\n",
    "# this notation can be used when we have more than one condition\n",
    "# and the lenght of the statement becomes alot\n",
    "assert x == \"chao\", \\\n",
    "            f'x should be hello'"
   ]
  },
  {
   "attachments": {},
   "cell_type": "markdown",
   "metadata": {},
   "source": [
    "The assert statement exists in almost every programming language. It has two main uses:\n",
    "\n",
    "    It helps detect problems early in your program, where the cause is clear, rather than later when some other operation fails. A type error in Python, for example, can go through several layers of code before actually raising an Exception if not caught early on.\n",
    "\n",
    "    It works as documentation for other developers reading the code, who see the assert and can confidently say that its condition holds from now on.\n",
    "\n",
    "https://www.w3schools.com/python/ref_keyword_assert.asp\n",
    "\n",
    "https://stackoverflow.com/questions/5142418/what-is-the-use-of-assert-in-python\n",
    "\n",
    "\n",
    "## Customize Classes and Rich Compareson Methods\n",
    "We can see that if we do not use __str__ method or other customizing methods, we will only get the space that this instance is stored in. This is one way of customization. Also, we can add some rich compareson methods in this class to customize the meaning of less or greater in the way that we want it to be. \n",
    "\n",
    "https://docs.python.org/2.7/reference/datamodel.html#object.__lt__\n",
    "\n",
    "https://www.youtube.com/watch?v=d3IcRbYAapk"
   ]
  },
  {
   "cell_type": "code",
   "execution_count": 2,
   "metadata": {},
   "outputs": [
    {
     "name": "stdout",
     "output_type": "stream",
     "text": [
      "name: Mamad, age: 29, weight: 70\n",
      "name: Tarokh, age: 29, weight: 88\n"
     ]
    },
    {
     "ename": "AssertionError",
     "evalue": "this is not CORRECT",
     "output_type": "error",
     "traceback": [
      "\u001b[1;31m---------------------------------------------------------------------------\u001b[0m",
      "\u001b[1;31mAssertionError\u001b[0m                            Traceback (most recent call last)",
      "\u001b[1;32m~\\AppData\\Local\\Temp\\ipykernel_13068\\354745690.py\u001b[0m in \u001b[0;36m<module>\u001b[1;34m\u001b[0m\n\u001b[0;32m     24\u001b[0m     \u001b[0mprint\u001b[0m\u001b[1;33m(\u001b[0m\u001b[0mperson1\u001b[0m\u001b[1;33m)\u001b[0m\u001b[1;33m\u001b[0m\u001b[1;33m\u001b[0m\u001b[0m\n\u001b[0;32m     25\u001b[0m     \u001b[0mprint\u001b[0m\u001b[1;33m(\u001b[0m\u001b[0mperson2\u001b[0m\u001b[1;33m)\u001b[0m\u001b[1;33m\u001b[0m\u001b[1;33m\u001b[0m\u001b[0m\n\u001b[1;32m---> 26\u001b[1;33m     \u001b[1;32massert\u001b[0m \u001b[0mperson2\u001b[0m \u001b[1;33m<\u001b[0m \u001b[0mperson1\u001b[0m\u001b[1;33m,\u001b[0m \u001b[1;34mf'this is not CORRECT'\u001b[0m\u001b[1;33m\u001b[0m\u001b[1;33m\u001b[0m\u001b[0m\n\u001b[0m",
      "\u001b[1;31mAssertionError\u001b[0m: this is not CORRECT"
     ]
    }
   ],
   "source": [
    "class Person():\n",
    "\n",
    "    def __init__(self, name, age, weight):\n",
    "        self.name = name\n",
    "        self.age = age\n",
    "        self.weight = weight\n",
    "\n",
    "    def __str__(self):\n",
    "        return f'name: {self.name}, age: {self.age}, weight: {self.weight}'\n",
    "\n",
    "    def __lt__(self, other):\n",
    "        # there is two ways of implementing a rich compareson method.\n",
    "        # First by using if clause:\n",
    "        #if self.weight < other.weight:\n",
    "        #    return True\n",
    "        #else:\n",
    "        #    return False\n",
    "        # Second way is to return the result of a logical statement\n",
    "        return self.weight < other.weight \n",
    "    \n",
    "if __name__ == \"__main__\":\n",
    "    person1 = Person('Mamad', 29, 70)\n",
    "    person2 = Person('Tarokh', 29, 88)\n",
    "    print(person1)\n",
    "    print(person2)\n",
    "    assert person2 < person1, f'this is not CORRECT'\n"
   ]
  }
 ],
 "metadata": {
  "kernelspec": {
   "display_name": "base",
   "language": "python",
   "name": "python3"
  },
  "language_info": {
   "codemirror_mode": {
    "name": "ipython",
    "version": 3
   },
   "file_extension": ".py",
   "mimetype": "text/x-python",
   "name": "python",
   "nbconvert_exporter": "python",
   "pygments_lexer": "ipython3",
   "version": "3.9.13"
  },
  "orig_nbformat": 4
 },
 "nbformat": 4,
 "nbformat_minor": 2
}
