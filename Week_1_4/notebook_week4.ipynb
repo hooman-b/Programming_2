{
 "cells": [
  {
   "attachments": {},
   "cell_type": "markdown",
   "metadata": {},
   "source": [
    "# Generators and Map-Reduce\n",
    "### Generator \n",
    "In computer science, a generator is a routine that can be used to control the iteration behaviour of a loop. All generators are also iterators.[1] A generator is very similar to a function that returns an array, in that a generator has parameters, can be called, and generates a sequence of values. However, instead of building an array containing all the values and returning them all at once, a generator yields the values one at a time, which requires less memory and allows the caller to get started processing the first few values immediately. In short, a generator looks like a function but behaves like an iterator. \n",
    "\n",
    "An example from wikipedia for learning purposes:"
   ]
  },
  {
   "cell_type": "code",
   "execution_count": null,
   "metadata": {},
   "outputs": [],
   "source": [
    "from typing import Iterator\n",
    "\n",
    "def countfrom(n: int) -> Iterator[int]:\n",
    "    while True:\n",
    "        yield n\n",
    "        n += 1\n",
    "\n",
    "# Example use: printing out the integers from 10 to 20.\n",
    "# Note that this iteration terminates normally, despite\n",
    "# countfrom() being written as an infinite loop.\n",
    "\n",
    "for i in countfrom(10):\n",
    "    if i <= 20:\n",
    "        print(i)\n",
    "    else:\n",
    "        break\n",
    "\n",
    "# Another generator, which produces prime numbers indefinitely as needed.\n",
    "import itertools\n",
    "\n",
    "def primes() -> Iterator[int]:\n",
    "    \"\"\"Generate prime numbers indefinitely as needed.\"\"\"\n",
    "    yield 2\n",
    "    n = 3\n",
    "    p = []\n",
    "    while True:\n",
    "        # If dividing n by all the numbers in p, up to and including sqrt(n),\n",
    "        # produces a non-zero remainder then n is prime.\n",
    "        if all(n % f > 0 for f in itertools.takewhile(lambda f: f * f <= n, p)):\n",
    "            yield n\n",
    "            p.append(n)\n",
    "        n += 2\n",
    "\n",
    "squares = (n * n for n in countfrom(2))\n",
    "\n",
    "for j in squares:\n",
    "    if j <= 20:\n",
    "        print(j)\n",
    "    else:\n",
    "        break"
   ]
  }
 ],
 "metadata": {
  "language_info": {
   "name": "python"
  },
  "orig_nbformat": 4
 },
 "nbformat": 4,
 "nbformat_minor": 2
}
